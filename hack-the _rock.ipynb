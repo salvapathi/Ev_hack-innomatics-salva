{
 "cells": [
  {
   "cell_type": "code",
   "execution_count": null,
   "id": "5b283d25",
   "metadata": {},
   "outputs": [],
   "source": [
    "from IPython.core.display import HTML, display\n",
    "\n",
    "# Set the maximum width to utilize available space (adjust as needed)\n",
    "max_cell_width = \"83%\"\n",
    "\n",
    "# Set the custom CSS to maximize cell width\n",
    "custom_css = f\"\"\"\n",
    "<style>\n",
    "/* Maximize cell width */\n",
    ".container {{\n",
    "    width: {max_cell_width} !important;\n",
    "}}\n",
    "</style>\n",
    "\"\"\"\n",
    "\n",
    "# Apply the custom CSS\n",
    "display(HTML(custom_css))\n"
   ]
  },
  {
   "cell_type": "code",
   "execution_count": null,
   "id": "4ced8f4e",
   "metadata": {},
   "outputs": [],
   "source": [
    "# ! pip install pandas pandas-profiling\n",
    "import numpy as np\n",
    "import pandas as pd\n",
    "import seaborn as sns\n",
    "import matplotlib.pyplot as plt\n",
    "from skimpy import skim\n",
    "#from pandas_profiling import ProfileReport\n"
   ]
  },
  {
   "cell_type": "code",
   "execution_count": null,
   "id": "16ee0c28",
   "metadata": {},
   "outputs": [],
   "source": []
  },
  {
   "cell_type": "code",
   "execution_count": null,
   "id": "676f73f4",
   "metadata": {},
   "outputs": [],
   "source": [
    "df=pd.read_csv(r\"C:\\Users\\91779\\Downloads\\dataset.csv\")\n",
    "skim(df)"
   ]
  },
  {
   "cell_type": "code",
   "execution_count": null,
   "id": "b199cbf2",
   "metadata": {},
   "outputs": [],
   "source": [
    "df=df.drop_duplicates()"
   ]
  },
  {
   "cell_type": "code",
   "execution_count": null,
   "id": "ac5949b1",
   "metadata": {},
   "outputs": [],
   "source": [
    "df.shape"
   ]
  },
  {
   "cell_type": "code",
   "execution_count": null,
   "id": "b8ac13d0",
   "metadata": {},
   "outputs": [],
   "source": [
    "# profile = ProfileReport(df, title='Pandas Profiling Report', explorative=True)\n",
    "# profile"
   ]
  },
  {
   "cell_type": "code",
   "execution_count": null,
   "id": "edb97c22",
   "metadata": {},
   "outputs": [],
   "source": [
    "#checking the null values \n",
    "df[\"Base MSRP\"].value_counts()\n",
    "#basically there are them 90% data in base Msrp is Zero we can drop it but trying to fill them with approriate values and using outsource\n"
   ]
  },
  {
   "cell_type": "code",
   "execution_count": null,
   "id": "3e2d2598",
   "metadata": {},
   "outputs": [],
   "source": [
    "df.head(5)"
   ]
  },
  {
   "cell_type": "code",
   "execution_count": null,
   "id": "70d64e41",
   "metadata": {},
   "outputs": [],
   "source": [
    "#took four features combinations\n",
    "# df['msrp_flag']=np.where(df['Base MSRP']==0,1,0)\n",
    "# Base_MSRP_df=df[df['msrp_flag']==0].groupby(['Make','Model','Electric Vehicle Type','Clean Alternative Fuel Vehicle (CAFV) Eligibility'])['Base MSRP'].mean().reset_index()\n",
    "# Base_MSRP_df"
   ]
  },
  {
   "cell_type": "code",
   "execution_count": null,
   "id": "19b411f2",
   "metadata": {},
   "outputs": [],
   "source": [
    "#Trying with 4 comination of models(Make\tModel\tElectric Vehicle Type)\n",
    "df[\"flag_msrp\"]=np.where(df[\"Base MSRP\"]==0,1,0)\n",
    "base_msrp_df=df[df[\"flag_msrp\"]==0].groupby(['Make','Model','Electric Vehicle Type','Clean Alternative Fuel Vehicle (CAFV) Eligibility'])['Base MSRP'].mean().reset_index()\n",
    "base_msrp_df\n",
    "base_msrp_df.rename(columns={'Base MSRP':'Base_MSRP_mean'},inplace=True)\n",
    "df=pd.merge(df,base_msrp_df,left_on=['Make','Model','Electric Vehicle Type','Clean Alternative Fuel Vehicle (CAFV) Eligibility'],right_on=['Make','Model','Electric Vehicle Type','Clean Alternative Fuel Vehicle (CAFV) Eligibility'],how='left')   \n",
    "df[\"Base MSRP\"]=np.where(df[\"flag_msrp\"]==1,df['Base_MSRP_mean'],df['Base MSRP'])"
   ]
  },
  {
   "cell_type": "code",
   "execution_count": null,
   "id": "5c228def",
   "metadata": {},
   "outputs": [],
   "source": [
    "df = df.drop(columns=[\"flag_msrp\",\"Base_MSRP_mean\"], axis=1)"
   ]
  },
  {
   "cell_type": "code",
   "execution_count": null,
   "id": "be1e6eeb",
   "metadata": {},
   "outputs": [],
   "source": [
    "len(df.columns)"
   ]
  },
  {
   "cell_type": "code",
   "execution_count": null,
   "id": "f2a76c91",
   "metadata": {},
   "outputs": [],
   "source": [
    "#Trying with 3 comination of models(Make\tModel\tElectric Vehicle Type)\n",
    "df[\"flag_msrp\"]=np.where(df[\"Base MSRP\"].isna(),1,0)\n",
    "base_msrp_df=df[df[\"flag_msrp\"]==0].groupby(['Make','Model','Electric Vehicle Type'])['Base MSRP'].mean().reset_index()\n",
    "base_msrp_df\n",
    "base_msrp_df.rename(columns={'Base MSRP':'Base_MSRP_mean'},inplace=True)\n",
    "df=pd.merge(df,base_msrp_df,left_on=['Make','Model','Electric Vehicle Type'],right_on=['Make','Model','Electric Vehicle Type'],how='left')   \n",
    "df[\"Base MSRP\"]=np.where(df[\"flag_msrp\"]==1,df['Base_MSRP_mean'],df['Base MSRP'])"
   ]
  },
  {
   "cell_type": "code",
   "execution_count": null,
   "id": "e4fbcfe1",
   "metadata": {},
   "outputs": [],
   "source": [
    "df = df.drop(columns=[\"flag_msrp\",\"Base_MSRP_mean\"], axis=1)"
   ]
  },
  {
   "cell_type": "code",
   "execution_count": null,
   "id": "ad2997ae",
   "metadata": {},
   "outputs": [],
   "source": [
    "df['Base MSRP'].isna().sum()"
   ]
  },
  {
   "cell_type": "code",
   "execution_count": null,
   "id": "0ece27b2",
   "metadata": {},
   "outputs": [],
   "source": [
    "#Trying with 2 comination of models(Make\tModel\tElectric Vehicle Type)\n",
    "df[\"flag_msrp\"]=np.where(df[\"Base MSRP\"].isna(),1,0)\n",
    "base_msrp_df=df[df[\"flag_msrp\"]==0].groupby(['Make','Model'])['Base MSRP'].mean().reset_index()\n",
    "base_msrp_df\n",
    "base_msrp_df.rename(columns={'Base MSRP':'Base_MSRP_mean'},inplace=True)\n",
    "df=pd.merge(df,base_msrp_df,left_on=['Make','Model'],right_on=['Make','Model'],how='left')   \n",
    "df[\"Base MSRP\"]=np.where(df[\"flag_msrp\"]==1,df['Base_MSRP_mean'],df['Base MSRP'])"
   ]
  },
  {
   "cell_type": "code",
   "execution_count": null,
   "id": "a67d0603",
   "metadata": {},
   "outputs": [],
   "source": [
    "df = df.drop(columns=[\"flag_msrp\",\"Base_MSRP_mean\"], axis=1)"
   ]
  },
  {
   "cell_type": "code",
   "execution_count": null,
   "id": "e626a6d1",
   "metadata": {},
   "outputs": [],
   "source": [
    "df['Base MSRP'].isna().sum()"
   ]
  },
  {
   "cell_type": "code",
   "execution_count": null,
   "id": "e1e5415e",
   "metadata": {},
   "outputs": [],
   "source": [
    "#Trying with 2 comination of models(Make\tModel\tElectric Vehicle Type)\n",
    "df[\"flag_msrp\"]=np.where(df[\"Base MSRP\"].isna(),1,0)\n",
    "base_msrp_df=df[df[\"flag_msrp\"]==0].groupby(['Make','Electric Vehicle Type'])['Base MSRP'].mean().reset_index()\n",
    "base_msrp_df\n",
    "base_msrp_df.rename(columns={'Base MSRP':'Base_MSRP_mean'},inplace=True)\n",
    "df=pd.merge(df,base_msrp_df,left_on=['Make','Electric Vehicle Type'],right_on=['Make','Electric Vehicle Type'],how='left')   \n",
    "df[\"Base MSRP\"]=np.where(df[\"flag_msrp\"]==1,df['Base_MSRP_mean'],df['Base MSRP'])"
   ]
  },
  {
   "cell_type": "code",
   "execution_count": null,
   "id": "ae921ba8",
   "metadata": {},
   "outputs": [],
   "source": [
    "df = df.drop(columns=[\"flag_msrp\",\"Base_MSRP_mean\"], axis=1)"
   ]
  },
  {
   "cell_type": "code",
   "execution_count": null,
   "id": "a0b33020",
   "metadata": {},
   "outputs": [],
   "source": [
    "len(df.columns)"
   ]
  },
  {
   "cell_type": "code",
   "execution_count": null,
   "id": "ece60a17",
   "metadata": {},
   "outputs": [],
   "source": [
    "df['Base MSRP'].isna().sum()"
   ]
  },
  {
   "cell_type": "code",
   "execution_count": null,
   "id": "25be6321",
   "metadata": {},
   "outputs": [],
   "source": [
    "#Trying with 1 comination of models(Make\tModel\tElectric Vehicle Type)\n",
    "df[\"flag_msrp\"]=np.where(df[\"Base MSRP\"].isna(),1,0)\n",
    "base_msrp_df=df[df[\"flag_msrp\"]==0].groupby(['Make'])['Base MSRP'].mean().reset_index()\n",
    "base_msrp_df\n",
    "base_msrp_df.rename(columns={'Base MSRP':'Base_MSRP_mean'},inplace=True)\n",
    "df=pd.merge(df,base_msrp_df,left_on=['Make'],right_on=['Make'],how='left')   \n",
    "df[\"Base MSRP\"]=np.where(df[\"flag_msrp\"]==1,df['Base_MSRP_mean'],df['Base MSRP'])"
   ]
  },
  {
   "cell_type": "code",
   "execution_count": null,
   "id": "056e4df1",
   "metadata": {},
   "outputs": [],
   "source": [
    "df = df.drop(columns=[\"flag_msrp\",\"Base_MSRP_mean\"], axis=1)"
   ]
  },
  {
   "cell_type": "code",
   "execution_count": null,
   "id": "b1f5ec4e",
   "metadata": {},
   "outputs": [],
   "source": [
    "df['Base MSRP'].isna().sum()"
   ]
  },
  {
   "cell_type": "code",
   "execution_count": null,
   "id": "e9057642",
   "metadata": {},
   "outputs": [],
   "source": [
    "df[df['Base MSRP'].isna()]['Make'].unique()"
   ]
  },
  {
   "cell_type": "code",
   "execution_count": null,
   "id": "ea298409",
   "metadata": {},
   "outputs": [],
   "source": [
    "df.columns"
   ]
  },
  {
   "cell_type": "code",
   "execution_count": null,
   "id": "38319dcd",
   "metadata": {},
   "outputs": [],
   "source": [
    "df[df['Base MSRP'].isna()]['Model'].value_counts()[6:25]"
   ]
  },
  {
   "cell_type": "code",
   "execution_count": null,
   "id": "5af4eb8a",
   "metadata": {},
   "outputs": [],
   "source": [
    "df[df[\"Model\"]==\"RAV4 PRIME\"]\n",
    "df.groupby([\"Make\"])[\"Clean Alternative Fuel Vehicle (CAFV) Eligibility\"].value_counts()"
   ]
  },
  {
   "cell_type": "code",
   "execution_count": null,
   "id": "d9dbb9f7",
   "metadata": {},
   "outputs": [],
   "source": [
    "df[\"Clean Alternative Fuel Vehicle (CAFV) Eligibility\"].value_counts()                               "
   ]
  },
  {
   "cell_type": "code",
   "execution_count": null,
   "id": "da9c5fd5",
   "metadata": {},
   "outputs": [],
   "source": [
    "# Boolean indexing to filter rows with the specified conditions\n",
    "condition = (df[\"Make\"] == \"TOYOTA\") & (df[\"Model\"] == \"RAV4 PRIME\") & (df[\"Model Year\"] == 2022)\n",
    "\n",
    "# Use fillna() to fill missing values in \"Base MSRP\" column for the specified rows\n",
    "df.loc[condition, \"Base MSRP\"] = df.loc[condition, \"Base MSRP\"].fillna(47100)\n",
    "df['Base MSRP'].isna().sum()"
   ]
  },
  {
   "cell_type": "code",
   "execution_count": null,
   "id": "bfa1c6f0",
   "metadata": {},
   "outputs": [],
   "source": []
  },
  {
   "cell_type": "code",
   "execution_count": null,
   "id": "b7be1e0e",
   "metadata": {},
   "outputs": [],
   "source": [
    "condition = (df[\"Make\"] == \"TOYOTA\") & (df[\"Model\"] == \"RAV4 PRIME\") & (df[\"Model Year\"] == 2021)\n",
    "# Use fillna() to fill missing values in \"Base MSRP\" column for the specified rows\n",
    "df.loc[condition, \"Base MSRP\"] = df.loc[condition, \"Base MSRP\"].fillna(42872)\n",
    "df['Base MSRP'].isna().sum()"
   ]
  },
  {
   "cell_type": "code",
   "execution_count": null,
   "id": "44849913",
   "metadata": {},
   "outputs": [],
   "source": [
    "# Use fillna() to fill missing values in \"Base MSRP\" column for the specified rows\n",
    "df.loc[(df[\"Make\"] == \"TOYOTA\") & (df[\"Model\"] == \"RAV4 PRIME\") & (df[\"Model Year\"] == 2021), \"Base MSRP\"] = df.loc[(df[\"Make\"] == \"TOYOTA\") & (df[\"Model\"] == \"RAV4 PRIME\") & (df[\"Model Year\"] == 2021), \"Base MSRP\"].fillna(42872)\n"
   ]
  },
  {
   "cell_type": "code",
   "execution_count": null,
   "id": "a45f5872",
   "metadata": {},
   "outputs": [],
   "source": [
    "df.loc[(df[\"Make\"] == \"CHEVROLET\") & (df[\"Model\"] == \"VOLT\") & (df[\"Model Year\"] == 2019), \"Base MSRP\"] = df.loc[(df[\"Make\"] == \"CHEVROLET\") & (df[\"Model\"] == \"VOLT\") & (df[\"Model Year\"] == 2019), \"Base MSRP\"].fillna(35000)\n",
    "df['Base MSRP'].isna().sum()"
   ]
  },
  {
   "cell_type": "code",
   "execution_count": null,
   "id": "33c45b18",
   "metadata": {},
   "outputs": [],
   "source": [
    "df.loc[(df[\"Make\"] == \"CHEVROLET\") & (df[\"Model\"] == \"VOLT\") & (df[\"Model Year\"] == 2017), \"Base MSRP\"] = df.loc[(df[\"Make\"] == \"CHEVROLET\") & (df[\"Model\"] == \"VOLT\") & (df[\"Model Year\"] == 2017), \"Base MSRP\"].fillna(33200)\n",
    "df['Base MSRP'].isna().sum()"
   ]
  },
  {
   "cell_type": "code",
   "execution_count": null,
   "id": "083702ab",
   "metadata": {},
   "outputs": [],
   "source": [
    "df.loc[(df[\"Make\"] == \"CHEVROLET\") & (df[\"Model\"] == \"VOLT\") & (df[\"Model Year\"] == 2013), \"Base MSRP\"] = df.loc[(df[\"Make\"] == \"CHEVROLET\") & (df[\"Model\"] == \"VOLT\") & (df[\"Model Year\"] == 2013), \"Base MSRP\"].fillna(39145)\n",
    "df['Base MSRP'].isna().sum()"
   ]
  },
  {
   "cell_type": "code",
   "execution_count": null,
   "id": "2c264cce",
   "metadata": {},
   "outputs": [],
   "source": [
    "condition=(df[\"Make\"] == \"NISSAN\") & (df[\"Model\"] == \"LEAF\") & (df[\"Model Year\"] == 2013)\n",
    "df.loc[condition, \"Base MSRP\"] = df.loc[condition, \"Base MSRP\"].fillna(34840)\n",
    "df['Base MSRP'].isna().sum()"
   ]
  },
  {
   "cell_type": "code",
   "execution_count": null,
   "id": "7436a015",
   "metadata": {},
   "outputs": [],
   "source": [
    "condition=(df[\"Make\"] == \"NISSAN\") & (df[\"Model\"] == \"LEAF\") & (df[\"Model Year\"] == 2015)\n",
    "df.loc[condition, \"Base MSRP\"] = df.loc[condition, \"Base MSRP\"].fillna(28040)\n",
    "df['Base MSRP'].isna().sum()"
   ]
  },
  {
   "cell_type": "code",
   "execution_count": null,
   "id": "7d5b256c",
   "metadata": {},
   "outputs": [],
   "source": [
    "condition=(df[\"Make\"] == \"NISSAN\") & (df[\"Model\"] == \"LEAF\") & (df[\"Model Year\"] == 2019)\n",
    "df.loc[condition, \"Base MSRP\"] = df.loc[condition, \"Base MSRP\"].fillna(32490)\n",
    "df['Base MSRP'].isna().sum()"
   ]
  },
  {
   "cell_type": "code",
   "execution_count": null,
   "id": "cd8e6bac",
   "metadata": {},
   "outputs": [],
   "source": [
    "import numpy as np\n",
    "# Define the conditions for different model years and make\n",
    "condition_2018_nissan = (df[\"Model Year\"] == 2018) & (df[\"Make\"] == \"NISSAN\")\n",
    "condition_2019 = (df[\"Model Year\"] == 2016) &(df[\"Make\"] == \"NISSAN\") \n",
    "condition_2020 = (df[\"Model Year\"] == 2022) &(df[\"Make\"] == \"NISSAN\") \n",
    "\n",
    "# Set the Base MSRP values based on the conditions\n",
    "df[\"Base MSRP\"] = np.where(condition_2018_nissan, 32490, df[\"Base MSRP\"])\n",
    "df[\"Base MSRP\"] = np.where(condition_2019, 29290, df[\"Base MSRP\"])\n",
    "df[\"Base MSRP\"] = np.where(condition_2020, 27400, df[\"Base MSRP\"])\n",
    "df['Base MSRP'].isna().sum()"
   ]
  },
  {
   "cell_type": "code",
   "execution_count": null,
   "id": "18887ae8",
   "metadata": {},
   "outputs": [],
   "source": [
    "condition_2017_nissan = (df[\"Model Year\"] == 2017) & (df[\"Make\"] == \"CHEVROLET\")\n",
    "condition_2020 = (df[\"Model Year\"] == 2020) &(df[\"Make\"] == \"CHEVROLET\") \n",
    "condition_2022 = (df[\"Model Year\"] == 2022) &(df[\"Make\"] == \"CHEVROLET\") \n",
    "condition_2019 = (df[\"Model Year\"] == 2019) &(df[\"Make\"] == \"CHEVROLET\") \n",
    "# Set the Base MSRP values based on the conditions\n",
    "df[\"Base MSRP\"] = np.where(condition_2017_nissan, 36620, df[\"Base MSRP\"])\n",
    "df[\"Base MSRP\"] = np.where(condition_2020, 37495, df[\"Base MSRP\"])\n",
    "df[\"Base MSRP\"] = np.where(condition_2022, 34700, df[\"Base MSRP\"])\n",
    "df[\"Base MSRP\"] = np.where(condition_2019, 37495, df[\"Base MSRP\"])\n",
    "df['Base MSRP'].isna().sum()"
   ]
  },
  {
   "cell_type": "code",
   "execution_count": null,
   "id": "146537bd",
   "metadata": {},
   "outputs": [],
   "source": [
    "df[df[\"Model\"]==\"PRIUS PRIME\"][\"Model Year\"].value_counts()"
   ]
  },
  {
   "cell_type": "code",
   "execution_count": null,
   "id": "6670b2a8",
   "metadata": {},
   "outputs": [],
   "source": [
    "condition_2017_toyota = (df[\"Model Year\"] == 2017) & (df[\"Make\"] == \"TOYOTA\")\n",
    "condition_2018_toyota = (df[\"Model Year\"] == 2018) & (df[\"Make\"] == \"TOYOTA\")\n",
    "condition_2020_toyota = (df[\"Model Year\"] == 2020) & (df[\"Make\"] == \"TOYOTA\")\n",
    "condition_2019_toyota = (df[\"Model Year\"] == 2019) & (df[\"Make\"] == \"TOYOTA\")\n",
    "\n",
    "# Set the Base MSRP values based on the conditions and fill only if the value is NaN\n",
    "df[\"Base MSRP\"] = np.where(condition_2017_toyota & df[\"Base MSRP\"].isnull(), 31000, df[\"Base MSRP\"])\n",
    "df[\"Base MSRP\"] = np.where(condition_2018_toyota & df[\"Base MSRP\"].isnull(), 33100, df[\"Base MSRP\"])\n",
    "df[\"Base MSRP\"] = np.where(condition_2020_toyota & df[\"Base MSRP\"].isnull(), 27400, df[\"Base MSRP\"])\n",
    "df[\"Base MSRP\"] = np.where(condition_2019_toyota & df[\"Base MSRP\"].isnull(), 30005, df[\"Base MSRP\"])\n",
    "df['Base MSRP'].isna().sum()"
   ]
  },
  {
   "cell_type": "code",
   "execution_count": null,
   "id": "0d7e4119",
   "metadata": {},
   "outputs": [],
   "source": [
    "condition_2019_toyota = (df[\"Model Year\"] == 2019) & (df[\"Model\"] == \"FUSION\")\n",
    "condition_2016_toyota = (df[\"Model Year\"] == 2016) & (df[\"Model\"] == \"FUSION\")\n",
    "condition_2014_toyota = (df[\"Model Year\"] == 2014) & (df[\"Model\"] == \"FUSION\")\n",
    "condition_2015_toyota = (df[\"Model Year\"] == 2015) & (df[\"Model\"] == \"FUSION\")\n",
    "\n",
    "# Set the Base MSRP values based on the conditions and fill only if the value is NaN\n",
    "df[\"Base MSRP\"] = np.where(condition_2019_toyota & df[\"Base MSRP\"].isnull(), 25015, df[\"Base MSRP\"])\n",
    "df[\"Base MSRP\"] = np.where(condition_2016_toyota & df[\"Base MSRP\"].isnull(), 26060, df[\"Base MSRP\"])\n",
    "df[\"Base MSRP\"] = np.where(condition_2014_toyota & df[\"Base MSRP\"].isnull(), 27400, df[\"Base MSRP\"])\n",
    "df[\"Base MSRP\"] = np.where(condition_2015_toyota & df[\"Base MSRP\"].isnull(), 22500, df[\"Base MSRP\"])\n",
    "df['Base MSRP'].isna().sum()"
   ]
  },
  {
   "cell_type": "code",
   "execution_count": null,
   "id": "cce29e56",
   "metadata": {},
   "outputs": [],
   "source": [
    "condition_2019_toyota1 = (df[\"Model Year\"] == 2019) & (df[\"Make\"] ==\"FORD\")\n",
    "condition_2016_toyota2 = (df[\"Model Year\"] == 2016) & (df[\"Make\"] ==\"FORD\")\n",
    "condition_2014_toyota3 = (df[\"Model Year\"] == 2014) & (df[\"Make\"] ==\"FORD\")\n",
    "condition_2015_toyota4 = (df[\"Model Year\"] == 2015) & (df[\"Make\"] ==\"FORD\")\n",
    "df[\"Base MSRP\"] = np.where(condition_2019_toyota1 & df[\"Base MSRP\"].isnull(), 25015, df[\"Base MSRP\"])\n",
    "df[\"Base MSRP\"] = np.where(condition_2016_toyota2 & df[\"Base MSRP\"].isnull(), 26060, df[\"Base MSRP\"])\n",
    "df[\"Base MSRP\"] = np.where(condition_2014_toyota3 & df[\"Base MSRP\"].isnull(), 27400, df[\"Base MSRP\"])\n",
    "df[\"Base MSRP\"] = np.where(condition_2015_toyota4 & df[\"Base MSRP\"].isnull(), 22500, df[\"Base MSRP\"])\n",
    "df['Base MSRP'].isna().sum()"
   ]
  },
  {
   "cell_type": "code",
   "execution_count": null,
   "id": "9f7556a5",
   "metadata": {},
   "outputs": [],
   "source": [
    "condition_2021_toyota1 = (df[\"Model Year\"] == 2021) & (df[\"Model\"] ==\"MUSTANG MACH-E\")\n",
    "condition_2022_toyota2 = (df[\"Model Year\"] == 2022) & (df[\"Model\"] ==\"MUSTANG MACH-E\")\n",
    "df[\"Base MSRP\"] = np.where(condition_2021_toyota1 & df[\"Base MSRP\"].isnull(), 46500, df[\"Base MSRP\"])\n",
    "df[\"Base MSRP\"] = np.where(condition_2022_toyota2 & df[\"Base MSRP\"].isnull(), 42500, df[\"Base MSRP\"])\n",
    "df['Base MSRP'].isna().sum()"
   ]
  },
  {
   "cell_type": "code",
   "execution_count": null,
   "id": "984e34c3",
   "metadata": {},
   "outputs": [],
   "source": [
    "df[\"flag_msrp\"]=np.where(df[\"Base MSRP\"].isna(),1,0)\n",
    "base_msrp_df=df[df[\"flag_msrp\"]==0].groupby(['Make','Model'])['Base MSRP'].mean().reset_index()\n",
    "base_msrp_df\n",
    "base_msrp_df.rename(columns={'Base MSRP':'Base_MSRP_mean'},inplace=True)\n",
    "df=pd.merge(df,base_msrp_df,left_on=['Make','Model'],right_on=['Make','Model'],how='left')   \n",
    "df[\"Base MSRP\"]=np.where(df[\"flag_msrp\"]==1,df['Base_MSRP_mean'],df['Base MSRP'])\n",
    "df['Base MSRP'].isna().sum()"
   ]
  },
  {
   "cell_type": "code",
   "execution_count": null,
   "id": "ac732f3e",
   "metadata": {},
   "outputs": [],
   "source": []
  },
  {
   "cell_type": "code",
   "execution_count": null,
   "id": "589234d4",
   "metadata": {},
   "outputs": [],
   "source": [
    "df[pd.isnull(df[\"Model\"])]  \n",
    "#FILLIng with outsourdce\n",
    "df[\"Model\"] = np.where(df[\"Model\"].isnull(), \"XC40\", df[\"Model\"])"
   ]
  },
  {
   "cell_type": "code",
   "execution_count": null,
   "id": "70d0fafd",
   "metadata": {},
   "outputs": [],
   "source": [
    "df['Base MSRP'].isna().sum()"
   ]
  },
  {
   "cell_type": "code",
   "execution_count": null,
   "id": "6a6b5d56",
   "metadata": {},
   "outputs": [],
   "source": [
    "df[\"mean_ele\"]=np.where(df[\"Electric Range\"]==0,1,0)\n",
    "df_ele_mean=df[df[\"mean_ele\"]==0].groupby([\"Make\",\"Model\"])[\"Electric Range\"].mean().reset_index()\n",
    "df_ele_mean\n",
    "df_ele_mean.rename(columns={\"Electric Range\":\"Electric Range_mean\"},inplace=True)\n",
    "df=pd.merge(df,df_ele_mean,left_on=[\"Make\",\"Model\"],right_on=[\"Make\",\"Model\"],how='left')   \n",
    "df[\"Electric Range\"]=np.where(df[\"mean_ele\"]==1,df['Electric Range_mean'],df[\"Electric Range\"])  "
   ]
  },
  {
   "cell_type": "code",
   "execution_count": null,
   "id": "8d32ebd9",
   "metadata": {},
   "outputs": [],
   "source": [
    "df.drop(columns=[\"mean_ele\",\"Electric Range_mean\"],axis=1,inplace=True)"
   ]
  },
  {
   "cell_type": "code",
   "execution_count": null,
   "id": "08ced7a7",
   "metadata": {},
   "outputs": [],
   "source": [
    "skim(df)"
   ]
  },
  {
   "cell_type": "code",
   "execution_count": null,
   "id": "dca39631",
   "metadata": {},
   "outputs": [],
   "source": [
    "condi1=(df[\"Model\"]==\"MUSTANG MACH-E\")\n",
    "condi2=(df[\"Model\"]==\"ID.4\")\n",
    "condi3=(df[\"Model\"]==\"EV6\")\n",
    "condi4=(df[\"Model\"]==\"R1T\")\n",
    "df[\"Electric Range\"]=np.where(condi1 & df[\"Electric Range\"].isnull(),256,df[\"Electric Range\"])\n",
    "df[\"Electric Range\"]=np.where(condi2 & df[\"Electric Range\"].isnull(),328,df[\"Electric Range\"])\n",
    "df[\"Electric Range\"]=np.where(condi3 & df[\"Electric Range\"].isnull(),440,df[\"Electric Range\"])\n",
    "df[\"Electric Range\"]=np.where(condi4 & df[\"Electric Range\"].isnull(),314,df[\"Electric Range\"])"
   ]
  },
  {
   "cell_type": "code",
   "execution_count": null,
   "id": "8b1f733e",
   "metadata": {},
   "outputs": [],
   "source": [
    "# Fill missing values in the \"Electric Range\" column with the mean of the available values\n",
    "df[\"Electric Range\"] = df[\"Electric Range\"].fillna(df[\"Electric Range\"].mean())\n",
    "df[\"Base MSRP\"] = df[\"Base MSRP\"].fillna(df[\"Base MSRP\"].mean())"
   ]
  },
  {
   "cell_type": "markdown",
   "id": "7d853090",
   "metadata": {},
   "source": [
    "df[\"mean_le\"]=np.where(df[\"Legislative District\"].isna(),1,0)\n",
    "df_ele_mean=df[df[\"mean_le\"]==0].groupby([\"County\"])[\"Legislative District\"].mean().reset_index()\n",
    "df_ele_mean\n",
    "df_ele_mean.rename(columns={\"Legislative District\":\"Legislative District_mean\"},inplace=True)\n",
    "df=pd.merge(df,df_ele_mean,left_on=[\"County\"],right_on=[\"County\",\"City\"],how='left')   \n",
    "df[\"Legislative District\"]=np.where(df[\"mean_le\"]==1,df[\"Legislative District_mean\"],df[\"Legislative District\"])  \n",
    "\n",
    "df[\"flag_msrp\"]=np.where(df[\"Base MSRP\"].isna(),1,0)\n",
    "base_msrp_df=df[df[\"flag_msrp\"]==0].groupby(['Make'])['Base MSRP'].mean().reset_index()\n",
    "base_msrp_df\n",
    "base_msrp_df.rename(columns={'Base MSRP':'Base_MSRP_mean'},inplace=True)\n",
    "df=pd.merge(df,base_msrp_df,left_on=['Make'],right_on=['Make'],how='left')   \n",
    "df[\"Base MSRP\"]=np.where(df[\"flag_msrp\"]==1,df['Base_MSRP_mean'],df['Base MSRP'])"
   ]
  },
  {
   "cell_type": "markdown",
   "id": "288316fc",
   "metadata": {},
   "source": [
    "df.drop(columns=[\"flag_msrp\",\"Base_MSRP_mean\",\"mean_le\",\"Legislative District_mean\"],axis=1,inplace=True)"
   ]
  },
  {
   "cell_type": "code",
   "execution_count": null,
   "id": "d6c0d96a",
   "metadata": {},
   "outputs": [],
   "source": [
    "# using group by\n",
    "df[\"Legislative District\"]=df[\"Legislative District\"].astype(\"str\")\n",
    "df[\"Legislative District\"]=df.groupby([\"County\", \"City\", \"State\", \"Postal Code\"])[\"Legislative District\"].transform(lambda x: x.fillna(x.mode().iloc[0]))\n",
    "#df[\"Legislative District\"] = df[\"Legislative District\"].fillna(df[\"Legislative District\"].mode())\n",
    "df[\"Legislative District\"]"
   ]
  },
  {
   "cell_type": "code",
   "execution_count": null,
   "id": "f5b3c988",
   "metadata": {},
   "outputs": [],
   "source": [
    "# using VNR method\n",
    "def fill_vehicle_location(row):\n",
    "    if pd.notna(row['Vehicle Location']):\n",
    "        return row['Vehicle Location']\n",
    "    else:\n",
    "        state = row['State']\n",
    "        postal_code = row['Postal Code']\n",
    "        city = row['City']\n",
    "        county = row['County']\n",
    "        return f\"{city}, {county}, {state}, {postal_code}\"\n",
    "\n",
    "# Apply the function to fill missing 'Vehicle Location' values\n",
    "df['Vehicle Location'] = df.apply(fill_vehicle_location, axis=1)"
   ]
  },
  {
   "cell_type": "code",
   "execution_count": null,
   "id": "82becfdd",
   "metadata": {},
   "outputs": [],
   "source": [
    "df.drop(columns=[\"flag_msrp\",\"Base_MSRP_mean\"],axis=1,inplace=True)"
   ]
  },
  {
   "cell_type": "code",
   "execution_count": null,
   "id": "7df78e04",
   "metadata": {},
   "outputs": [],
   "source": [
    "df[\"Electric Utility\"]=df.groupby([\"Make\",\"Model\",\"Electric Vehicle Type\",\"Clean Alternative Fuel Vehicle (CAFV) Eligibility\"])[\"Electric Utility\"].transform(lambda x: x.fillna(x.mode()[0]))"
   ]
  },
  {
   "cell_type": "code",
   "execution_count": null,
   "id": "06336a4b",
   "metadata": {},
   "outputs": [],
   "source": [
    " df.dropna(subset=['Legislative District'],inplace=True)"
   ]
  },
  {
   "cell_type": "code",
   "execution_count": null,
   "id": "e91b520d",
   "metadata": {},
   "outputs": [],
   "source": [
    "df[\"Legislative District\"] = df[\"Legislative District\"].replace(\"nan\", 0)"
   ]
  },
  {
   "cell_type": "code",
   "execution_count": null,
   "id": "e8dcf1b1",
   "metadata": {},
   "outputs": [],
   "source": [
    "mode_district = df[\"Legislative District\"].mode().iloc[0]\n",
    "\n",
    "# Replace the 0 values with the mode\n",
    "df.loc[df[\"Legislative District\"] == 0, \"Legislative District\"] = mode_district"
   ]
  },
  {
   "cell_type": "code",
   "execution_count": null,
   "id": "05b19f81",
   "metadata": {},
   "outputs": [],
   "source": [
    "def find_outliers_in_all_columns(data):\n",
    "    outliers_info = {}  # Dictionary to store column names and their respective outlier counts\n",
    "\n",
    "    for column_name in data.columns:\n",
    "        if np.issubdtype(df[column_name].dtype, np.number):  # Check if the column is numeric\n",
    "            # Step 1: Calculate Q1 and Q3\n",
    "            Q1 = df[column_name].quantile(0.25)\n",
    "            Q3 = df[column_name].quantile(0.75)\n",
    "\n",
    "            # Step 2: Calculate IQR\n",
    "            IQR = Q3 - Q1\n",
    "\n",
    "            # Step 3: Identify outliers\n",
    "            lower_bound = Q1 - 1.5 * IQR\n",
    "            upper_bound = Q3 + 1.5 * IQR\n",
    "\n",
    "            outliers = df[(df[column_name] < lower_bound) | (df[column_name] > upper_bound)]\n",
    "\n",
    "            # Store column name and outlier count in the dictionary\n",
    "            outliers_info[column_name] = len(outliers)\n",
    "\n",
    "    return outliers_info\n",
    "\n",
    "\n"
   ]
  },
  {
   "cell_type": "code",
   "execution_count": null,
   "id": "08a758fe",
   "metadata": {},
   "outputs": [],
   "source": [
    "find_outliers_in_all_columns(df)"
   ]
  },
  {
   "cell_type": "code",
   "execution_count": null,
   "id": "c8dc73dc",
   "metadata": {},
   "outputs": [],
   "source": [
    "import plotly.express as pe"
   ]
  },
  {
   "cell_type": "code",
   "execution_count": null,
   "id": "7f9bd935",
   "metadata": {},
   "outputs": [],
   "source": [
    "import pandas as pd\n",
    "import numpy as np\n",
    "import plotly.graph_objects as go\n",
    "\n",
    "def find_outliers_in_all_columns(data):\n",
    "    outliers_info = {}  # Dictionary to store column names and their respective outlier counts\n",
    "\n",
    "    for column_name in df.columns:\n",
    "        if np.issubdtype(df[column_name].dtype, np.number):  # Check if the column is numeric\n",
    "            # Step 1: Calculate Q1 and Q3\n",
    "            Q1 = df[column_name].quantile(0.25)\n",
    "            Q3 = df[column_name].quantile(0.75)\n",
    "\n",
    "            # Step 2: Calculate IQR\n",
    "            IQR = Q3 - Q1\n",
    "\n",
    "            # Step 3: Identify outliers\n",
    "            lower_bound = Q1 - 1.5 * IQR\n",
    "            upper_bound = Q3 + 1.5 * IQR\n",
    "\n",
    "            outliers = df[(data[column_name] < lower_bound) | (df[column_name] > upper_bound)]\n",
    "\n",
    "            # Store column name and outlier count in the dictionary\n",
    "            outliers_info[column_name] = len(outliers)\n",
    "\n",
    "            # Create a Box Plot using Plotly\n",
    "            fig = go.Figure()\n",
    "            fig.add_trace(go.Box(y=df[column_name], name=column_name, boxpoints='outliers'))\n",
    "\n",
    "            fig.update_layout(title=f\"Box Plot for '{column_name}' (Outliers highlighted)\")\n",
    "\n",
    "            # Display the Plotly figure\n",
    "            fig.show()\n",
    "\n",
    "    return outliers_info\n",
    "\n",
    "# Example usage:\n",
    "# Assuming 'data' is your DataFrame containing the dataset.\n",
    "outliers_info = find_outliers_in_all_columns(df)\n"
   ]
  },
  {
   "cell_type": "code",
   "execution_count": null,
   "id": "ef95eb69",
   "metadata": {},
   "outputs": [],
   "source": [
    "fig = pe.bar(df['Make'].value_counts(), x=df['Make'].value_counts().index, y='Make', title='Number of EV Vehicles manufactured by Make')\n",
    "fig.show()"
   ]
  },
  {
   "cell_type": "code",
   "execution_count": null,
   "id": "08acd044",
   "metadata": {},
   "outputs": [],
   "source": [
    "import plotly.graph_objects as go\n",
    "def create_ev_choropleth_map(data):\n",
    "    # Calculate the count of EV vehicles for each state\n",
    "    ev_count_by_state = data['State'].value_counts().reset_index()\n",
    "    ev_count_by_state.columns = ['State', 'EV Count']\n",
    "\n",
    "    # Create the Choropleth map using plotly.graph_objects\n",
    "    fig_choropleth = go.Figure(data=go.Choropleth(\n",
    "        locations=ev_count_by_state['State'],\n",
    "        z=ev_count_by_state['EV Count'],\n",
    "        locationmode='USA-states',\n",
    "        colorscale='Viridis',\n",
    "        colorbar_title='Number of EV Vehicles',\n",
    "    ))\n",
    "\n",
    "    # Set the map title and layout\n",
    "    fig_choropleth.update_layout(\n",
    "        title_text='Choropleth Map of EV Vehicles by State',\n",
    "        geo_scope='usa',  # Limit map scope to the USA\n",
    "    )\n",
    "\n",
    "    # Return the Choropleth map figure\n",
    "    return fig_choropleth\n",
    "# Call the function and display the Choropleth map\n",
    "fig = create_ev_choropleth_map(df)\n",
    "fig.show()"
   ]
  },
  {
   "cell_type": "code",
   "execution_count": null,
   "id": "6139a0d9",
   "metadata": {},
   "outputs": [],
   "source": [
    "# Converting the 'Model Year' column to datetime type\n",
    "df['Model Year'] = pd.to_datetime(df['Model Year'], format='%Y')\n",
    "\n",
    "# Group by 'Model Year' and 'Make' to get the count of each make for each year\n",
    "df_grouped = df.groupby(['Model Year', 'Make']).size().reset_index(name='Count')"
   ]
  },
  {
   "cell_type": "code",
   "execution_count": null,
   "id": "c20270d0",
   "metadata": {},
   "outputs": [],
   "source": [
    "pip install bar_chart_race"
   ]
  },
  {
   "cell_type": "code",
   "execution_count": null,
   "id": "f85e062e",
   "metadata": {},
   "outputs": [],
   "source": [
    "import bar_chart_race as bcr\n",
    "# Pivot the DataFrame to have 'Make' as columns and 'Model Year' as index\n",
    "df_pivot = df_grouped.pivot(index='Model Year', columns='Make', values='Count')\n",
    "\n",
    "# Fill missing values using forward fill (pad)\n",
    "df_pivot = df_pivot.fillna(method='pad')"
   ]
  },
  {
   "cell_type": "code",
   "execution_count": null,
   "id": "077fb3df",
   "metadata": {},
   "outputs": [],
   "source": [
    "import bar_chart_race as bcr\n",
    "import warnings\n",
    "with warnings.catch_warnings():\n",
    " warnings.simplefilter(\"ignore\")\n",
    "\n",
    "\n",
    "# Assuming you have prepared the DataFrame 'df_pivot' as shown in your previous code.\n",
    "\n",
    "# Create the Racing Bar Plot and show it directly in Jupyter Notebook\n",
    "bcr.bar_chart_race(\n",
    "    df=df_pivot,\n",
    "    orientation='h',\n",
    "    sort='desc',\n",
    "    n_bars=10,\n",
    "    fixed_order=False,\n",
    "    title='EV Make Racing Bar Plot by Year',\n",
    "    label_bars=True,\n",
    "    period_label={'x': 0.99, 'y': 0.25, 'ha': 'right', 'va': 'center'},\n",
    "    period_fmt='%Y',\n",
    ")\n"
   ]
  },
  {
   "cell_type": "code",
   "execution_count": null,
   "id": "dafe7022",
   "metadata": {},
   "outputs": [],
   "source": []
  }
 ],
 "metadata": {
  "kernelspec": {
   "display_name": "Python 3 (ipykernel)",
   "language": "python",
   "name": "python3"
  },
  "language_info": {
   "codemirror_mode": {
    "name": "ipython",
    "version": 3
   },
   "file_extension": ".py",
   "mimetype": "text/x-python",
   "name": "python",
   "nbconvert_exporter": "python",
   "pygments_lexer": "ipython3",
   "version": "3.10.9"
  }
 },
 "nbformat": 4,
 "nbformat_minor": 5
}
